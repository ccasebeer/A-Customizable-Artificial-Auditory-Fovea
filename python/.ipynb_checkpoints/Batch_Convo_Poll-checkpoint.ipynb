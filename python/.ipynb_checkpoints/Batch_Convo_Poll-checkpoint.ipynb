{
 "cells": [
  {
   "cell_type": "code",
   "execution_count": 1,
   "metadata": {
    "scrolled": false
   },
   "outputs": [
    {
     "name": "stderr",
     "output_type": "stream",
     "text": [
      "C:\\Users\\Chris\\Anaconda3\\envs\\tensorflow\\lib\\site-packages\\ipykernel_launcher.py:41: DeprecationWarning: The Windows bytes API has been deprecated, use Unicode filenames instead\n"
     ]
    },
    {
     "ename": "ValueError",
     "evalue": "listdir: embedded null character in path",
     "output_type": "error",
     "traceback": [
      "\u001b[1;31m---------------------------------------------------------------------------\u001b[0m",
      "\u001b[1;31mValueError\u001b[0m                                Traceback (most recent call last)",
      "\u001b[1;32m<ipython-input-1-37e3f037910f>\u001b[0m in \u001b[0;36m<module>\u001b[1;34m()\u001b[0m\n\u001b[0;32m     39\u001b[0m \u001b[1;33m\u001b[0m\u001b[0m\n\u001b[0;32m     40\u001b[0m \u001b[1;33m\u001b[0m\u001b[0m\n\u001b[1;32m---> 41\u001b[1;33m \u001b[0mbefore\u001b[0m \u001b[1;33m=\u001b[0m \u001b[0mdict\u001b[0m \u001b[1;33m(\u001b[0m\u001b[1;33m[\u001b[0m\u001b[1;33m(\u001b[0m\u001b[0mf\u001b[0m\u001b[1;33m,\u001b[0m \u001b[1;32mNone\u001b[0m\u001b[1;33m)\u001b[0m \u001b[1;32mfor\u001b[0m \u001b[0mf\u001b[0m \u001b[1;32min\u001b[0m \u001b[0mos\u001b[0m\u001b[1;33m.\u001b[0m\u001b[0mlistdir\u001b[0m \u001b[1;33m(\u001b[0m\u001b[0mpath_to_watch\u001b[0m\u001b[1;33m)\u001b[0m\u001b[1;33m]\u001b[0m\u001b[1;33m)\u001b[0m\u001b[1;33m\u001b[0m\u001b[0m\n\u001b[0m\u001b[0;32m     42\u001b[0m \u001b[1;31m#Get rid of my \"old\" directory.\u001b[0m\u001b[1;33m\u001b[0m\u001b[1;33m\u001b[0m\u001b[0m\n\u001b[0;32m     43\u001b[0m \u001b[0mbefore\u001b[0m\u001b[1;33m.\u001b[0m\u001b[0mpop\u001b[0m\u001b[1;33m(\u001b[0m\u001b[1;34m'old'\u001b[0m\u001b[1;33m,\u001b[0m\u001b[1;36m0\u001b[0m\u001b[1;33m)\u001b[0m\u001b[1;33m\u001b[0m\u001b[0m\n",
      "\u001b[1;31mValueError\u001b[0m: listdir: embedded null character in path"
     ]
    }
   ],
   "source": [
    "#Script to loop through training a convolutional network on spectrogram or chirpletgram\n",
    "#example data num_times.\n",
    "#Prune the tensorflow graph data as we train new networks otherwise disk usage is too great\n",
    "#Monitor the mat_test_results_dir for data to train on. \n",
    "\n",
    "\n",
    "#Chris Casebeer. 2018. \n",
    "#christopher.casbee1@msu.montana.edu\n",
    "\n",
    "%load_ext autoreload\n",
    "%autoreload 2\n",
    "\n",
    "import convolutional_network\n",
    "import convolutional_network_spec\n",
    "import os, re\n",
    "\n",
    "from __future__ import division, print_function, absolute_import\n",
    "\n",
    "\n",
    "import tensorflow as tf\n",
    "import matplotlib.pyplot as plt\n",
    "import numpy as np\n",
    "\n",
    "import scipy.io as sio\n",
    "\n",
    "from sklearn.model_selection import train_test_split\n",
    "    \n",
    "import os, time\n",
    "\n",
    "\n",
    "fileDir = os.path.dirname(os.path.realpath('__file__'))\n",
    "filename = os.path.join(fileDir, '../matlab/directory_setup.mat')\n",
    "mat_contents = sio.loadmat(filename)\n",
    "mat_struct = mat_contents['directory_setup']\n",
    "val = mat_struct[0,0]\n",
    "path_to_watch = val['mat_test_results_dir'][0].astype(str)\n",
    "tensor_out_dir = val['tf_output_dir'][0].astype(str)\n",
    "\n",
    "\n",
    "\n",
    "before = dict ([(f, None) for f in os.listdir (path_to_watch)])\n",
    "#Get rid of my \"old\" directory. \n",
    "before.pop('old',0)\n",
    "\n",
    "for files_before in before:\n",
    "    \n",
    "    print(files_before)\n",
    "     \n",
    "    i = 0\n",
    "    \n",
    "    \n",
    "    if ('Spec' or 'spec') in files_before:\n",
    "        spec_on = 1\n",
    "    else:\n",
    "        spec_on = 0\n",
    "\n",
    "    num_times = 50\n",
    "    num_steps = [2000]\n",
    "\n",
    "    acc_array = np.zeros(num_times)\n",
    "\n",
    "\n",
    "    for k in num_steps:\n",
    "        print(k)\n",
    "        i = 0\n",
    "        while i < num_times:\n",
    "            #os.pause(10)\n",
    "            print(\"Current iteration is:\" + str(i) + \"\\n\")\n",
    "            \n",
    "            if spec_on:\n",
    "                directory = convolutional_network_spec.spec_over(k,path_to_watch,files_before,tensor_out_dir)\n",
    "            else:\n",
    "                directory = convolutional_network.over_run(k,path_to_watch,files_before,tensor_out_dir)\n",
    "\n",
    "            \n",
    "            \n",
    "            #Get rid of checkpoint files as we run. \n",
    "        \n",
    "            for f in os.listdir(directory):\n",
    "                if re.search('data', f):\n",
    "                    os.remove(os.path.join(directory, f))\n",
    "            \n",
    "            \n",
    "            i += 1\n",
    "\n",
    "\n",
    "\n",
    "while 1:\n",
    "    time.sleep (10)\n",
    "    after = dict ([(f, None) for f in os.listdir (path_to_watch)])\n",
    "    added = [f for f in after if not f in before]\n",
    "    removed = [f for f in before if not f in after]\n",
    "    if added: \n",
    "        \n",
    "        print(\"Added: \", \", \".join(added))\n",
    "        \n",
    "        \n",
    "        \n",
    "        for file_added in added:\n",
    "            print(\"Processing\" + file_added)\n",
    "        \n",
    "        \n",
    "        \n",
    "            if ('Spec' or 'spec') in file_added:\n",
    "                spec_on = 1\n",
    "            else:\n",
    "                spec_on = 0\n",
    "        \n",
    "            i = 0\n",
    "\n",
    "            num_times = 50\n",
    "            num_steps = [2000]\n",
    "\n",
    "            acc_array = np.zeros(num_times)\n",
    "\n",
    "\n",
    "            for k in num_steps:\n",
    "                print(k)\n",
    "                i = 0\n",
    "                while i < num_times:\n",
    "                    #os.pause(10)\n",
    "                    print(\"Current iteration is:\" + str(i) + \"\\n\")\n",
    "                    if spec_on:\n",
    "                        directory = convolutional_network_spec.spec_over(k,path_to_watch,files_before,tensor_out_dir)\n",
    "                    else:\n",
    "                        directory = convolutional_network.over_run(k,path_to_watch,files_before,tensor_out_dir)\n",
    "                    \n",
    "                    \n",
    "                    \n",
    "                    #Get rid of checkpoint files as we run. \n",
    "        \n",
    "                    for f in os.listdir(directory):\n",
    "                        if re.search('data', f):\n",
    "                            os.remove(os.path.join(directory, f))\n",
    "                    \n",
    "                    \n",
    "                    i += 1\n",
    "\n",
    "\n",
    "        \n",
    "    \n",
    "    if removed: print(\"Removed: \", \", \".join(removed))\n",
    "    before = after\n",
    "    \n",
    "    \n",
    "    \n",
    "    \n",
    "    \n",
    "    \n",
    "    \n",
    "    \n",
    "    \n",
    "    \n",
    "    \n",
    "    \n",
    "\n",
    "        \n",
    "        \n"
   ]
  },
  {
   "cell_type": "code",
   "execution_count": 7,
   "metadata": {},
   "outputs": [
    {
     "name": "stdout",
     "output_type": "stream",
     "text": [
      "Extracting /tmp/data/train-images-idx3-ubyte.gz\n",
      "Extracting /tmp/data/train-labels-idx1-ubyte.gz\n",
      "Extracting /tmp/data/t10k-images-idx3-ubyte.gz\n",
      "Extracting /tmp/data/t10k-labels-idx1-ubyte.gz\n",
      "[0. 0. 0. 0. 0. 0. 0. 0. 0. 0. 0. 0. 0. 0. 0. 0. 0. 0. 0. 0. 0. 0. 0. 0.\n",
      " 0. 0. 0. 0. 0. 0. 0. 0. 0. 0. 0. 0. 0. 0. 0. 0. 0. 0. 0. 0. 0. 0. 0. 0.\n",
      " 0. 0.]\n"
     ]
    }
   ],
   "source": [
    "print(acc_array)"
   ]
  },
  {
   "cell_type": "code",
   "execution_count": 4,
   "metadata": {},
   "outputs": [
    {
     "name": "stdout",
     "output_type": "stream",
     "text": [
      "0.4576923120766878\n"
     ]
    }
   ],
   "source": [
    "print (acc_array.mean())"
   ]
  },
  {
   "cell_type": "code",
   "execution_count": 1,
   "metadata": {},
   "outputs": [
    {
     "ename": "NameError",
     "evalue": "name 'i' is not defined",
     "output_type": "error",
     "traceback": [
      "\u001b[1;31m---------------------------------------------------------------------------\u001b[0m",
      "\u001b[1;31mNameError\u001b[0m                                 Traceback (most recent call last)",
      "\u001b[1;32m<ipython-input-1-9db9fc61498b>\u001b[0m in \u001b[0;36m<module>\u001b[1;34m()\u001b[0m\n\u001b[1;32m----> 1\u001b[1;33m \u001b[0mprint\u001b[0m \u001b[1;33m(\u001b[0m\u001b[0mi\u001b[0m\u001b[1;33m)\u001b[0m\u001b[1;33m\u001b[0m\u001b[0m\n\u001b[0m",
      "\u001b[1;31mNameError\u001b[0m: name 'i' is not defined"
     ]
    }
   ],
   "source": [
    "print (i)"
   ]
  },
  {
   "cell_type": "code",
   "execution_count": null,
   "metadata": {
    "collapsed": true
   },
   "outputs": [],
   "source": []
  }
 ],
 "metadata": {
  "kernelspec": {
   "display_name": "Python 3",
   "language": "python",
   "name": "python3"
  },
  "language_info": {
   "codemirror_mode": {
    "name": "ipython",
    "version": 3
   },
   "file_extension": ".py",
   "mimetype": "text/x-python",
   "name": "python",
   "nbconvert_exporter": "python",
   "pygments_lexer": "ipython3",
   "version": "3.5.4"
  }
 },
 "nbformat": 4,
 "nbformat_minor": 2
}
