{
 "cells": [
  {
   "cell_type": "code",
   "execution_count": 17,
   "metadata": {},
   "outputs": [
    {
     "name": "stdout",
     "output_type": "stream",
     "text": [
      "F:\\tensorflow_temp\\mat_test_results\n",
      "F:\\tensorflow_temp\n"
     ]
    }
   ],
   "source": [
    "import numpy as np\n",
    "import os\n",
    "import scipy.io as sio\n",
    "\n",
    "\n",
    "\n",
    "\n",
    "fileDir = os.path.dirname(os.path.realpath('__file__'))\n",
    "filename = os.path.join(fileDir, '../matlab/directory_setup.mat')\n",
    "mat_contents = sio.loadmat(filename)\n",
    "mat_struct = mat_contents['directory_setup']\n",
    "val = mat_struct[0,0]\n",
    "result_dir = val['mat_test_results_dir'][0].astype(str)\n",
    "\n",
    "tensor_out_dir = val['tf_output_dir'][0].astype(str)\n",
    "\n",
    "print (result_dir)\n",
    "print (tensor_out_dir)"
   ]
  },
  {
   "cell_type": "code",
   "execution_count": 16,
   "metadata": {},
   "outputs": [
    {
     "name": "stdout",
     "output_type": "stream",
     "text": [
      "F:\\tensorflow_temp\\mat_test_results\n",
      "<class 'numpy.str_'>\n"
     ]
    }
   ],
   "source": [
    "print(result_dir)\n",
    "print(type(result_dir))"
   ]
  },
  {
   "cell_type": "code",
   "execution_count": null,
   "metadata": {},
   "outputs": [],
   "source": []
  },
  {
   "cell_type": "code",
   "execution_count": null,
   "metadata": {},
   "outputs": [],
   "source": []
  }
 ],
 "metadata": {
  "kernelspec": {
   "display_name": "Python 3",
   "language": "python",
   "name": "python3"
  },
  "language_info": {
   "codemirror_mode": {
    "name": "ipython",
    "version": 3
   },
   "file_extension": ".py",
   "mimetype": "text/x-python",
   "name": "python",
   "nbconvert_exporter": "python",
   "pygments_lexer": "ipython3",
   "version": "3.5.4"
  }
 },
 "nbformat": 4,
 "nbformat_minor": 2
}
